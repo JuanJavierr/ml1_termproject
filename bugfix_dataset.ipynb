{
 "cells": [
  {
   "cell_type": "code",
   "execution_count": 9,
   "id": "100eb16c-a147-426b-b3f1-56e16175a328",
   "metadata": {
    "tags": []
   },
   "outputs": [],
   "source": [
    "# Avec Transpose + to_dict, on tombe à 4050 échantillons?"
   ]
  },
  {
   "cell_type": "code",
   "execution_count": 8,
   "id": "d12c95a3-2c63-4094-a952-d5f1bd392440",
   "metadata": {
    "tags": []
   },
   "outputs": [
    {
     "name": "stderr",
     "output_type": "stream",
     "text": [
      "/var/tmp/ipykernel_24719/1239478931.py:25: UserWarning: DataFrame columns are not unique, some columns will be omitted.\n",
      "  return df.T.to_dict() # Avec Transpose + to_Dict, on a\n"
     ]
    },
    {
     "data": {
      "text/plain": [
       "4054"
      ]
     },
     "execution_count": 8,
     "metadata": {},
     "output_type": "execute_result"
    }
   ],
   "source": [
    "import pandas as pd\n",
    "import os\n",
    "from modules.utils import cleanup_text_fields, cleanup_date_field\n",
    "from config import *\n",
    "\n",
    "def build_dataset(path=\"lapresse_crawler\", num_samples=-1, rnd_state=42):\n",
    "\n",
    "    df = pd.DataFrame()\n",
    "    for f in os.listdir(path):\n",
    "        if f.endswith(\".json\"):\n",
    "            df = pd.concat([df, pd.read_json(path+\"/\"+f)])\n",
    "    \n",
    "    df = cleanup_text_fields(df)\n",
    "    df = cleanup_date_field(df)\n",
    "\n",
    "    df[\"section_label\"], _ = pd.factorize(df[\"section_1\"])\n",
    "\n",
    "    if num_samples != -1:\n",
    "        df = df.sample(\n",
    "            n=min(len(df), num_samples), replace=False, random_state=rnd_state\n",
    "        )\n",
    "\n",
    "    df = df[df[\"section_1\"].isin(INCLUDED_SECTIONS)]\n",
    "\n",
    "    return df.T.to_dict() # Avec Transpose + to_Dict, on a \n",
    "\n",
    "\n",
    "df = build_dataset()\n",
    "len(df)"
   ]
  },
  {
   "cell_type": "markdown",
   "id": "eb7eeeb7-7922-4e2b-bedb-f2fa83dd955a",
   "metadata": {},
   "source": [
    "# Avec seulement Transpose, on a 24000 échantillons"
   ]
  },
  {
   "cell_type": "code",
   "execution_count": 6,
   "id": "c3762e72-648b-4b69-8a80-adf4e37ee1f0",
   "metadata": {
    "tags": []
   },
   "outputs": [
    {
     "data": {
      "text/plain": [
       "(12, 23937)"
      ]
     },
     "execution_count": 6,
     "metadata": {},
     "output_type": "execute_result"
    }
   ],
   "source": [
    "def build_dataset(path=\"lapresse_crawler\", num_samples=-1, rnd_state=42):\n",
    "\n",
    "    df = pd.DataFrame()\n",
    "    for f in os.listdir(path):\n",
    "        if f.endswith(\".json\"):\n",
    "            df = pd.concat([df, pd.read_json(path+\"/\"+f)])\n",
    "    \n",
    "    df = cleanup_text_fields(df)\n",
    "    df = cleanup_date_field(df)\n",
    "\n",
    "    df[\"section_label\"], _ = pd.factorize(df[\"section_1\"])\n",
    "\n",
    "    if num_samples != -1:\n",
    "        df = df.sample(\n",
    "            n=min(len(df), num_samples), replace=False, random_state=rnd_state\n",
    "        )\n",
    "\n",
    "    df = df[df[\"section_1\"].isin(INCLUDED_SECTIONS)]\n",
    "\n",
    "    return df.T #.to_dict()\n",
    "\n",
    "df = build_dataset()\n",
    "df.shape"
   ]
  },
  {
   "cell_type": "code",
   "execution_count": null,
   "id": "63dde80f-4d49-4907-ba12-c1b2f0415ce3",
   "metadata": {},
   "outputs": [],
   "source": []
  }
 ],
 "metadata": {
  "environment": {
   "kernel": "conda-env-pytorch-pytorch",
   "name": "workbench-notebooks.m119",
   "type": "gcloud",
   "uri": "us-docker.pkg.dev/deeplearning-platform-release/gcr.io/workbench-notebooks:m119"
  },
  "kernelspec": {
   "display_name": "PyTorch 1-13 (Local)",
   "language": "python",
   "name": "conda-env-pytorch-pytorch"
  },
  "language_info": {
   "codemirror_mode": {
    "name": "ipython",
    "version": 3
   },
   "file_extension": ".py",
   "mimetype": "text/x-python",
   "name": "python",
   "nbconvert_exporter": "python",
   "pygments_lexer": "ipython3",
   "version": "3.10.14"
  }
 },
 "nbformat": 4,
 "nbformat_minor": 5
}
