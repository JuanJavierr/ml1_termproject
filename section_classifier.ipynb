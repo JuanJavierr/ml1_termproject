{
 "cells": [
  {
   "cell_type": "markdown",
   "id": "573971d0-d848-4004-8005-6821b3336893",
   "metadata": {},
   "source": [
    "# IMPORTS"
   ]
  },
  {
   "cell_type": "code",
   "execution_count": 1,
   "id": "fa03a88b-209d-4bb2-870b-bfb37563980d",
   "metadata": {},
   "outputs": [
    {
     "name": "stderr",
     "output_type": "stream",
     "text": [
      "[nltk_data] Downloading package stopwords to /home/xavier/nltk_data...\n",
      "[nltk_data]   Package stopwords is already up-to-date!\n"
     ]
    }
   ],
   "source": [
    "import nltk\n",
    "import spacy\n",
    "from modules.utils import build_dataset, tune_logistic_regression, tune_svm, evaluate\n",
    "import sklearn\n",
    "from modules.preprocess import spacy_tokenizer, text_edit\n",
    "from sklearn.model_selection import train_test_split\n",
    "from sklearn.feature_extraction.text import TfidfVectorizer, CountVectorizer\n",
    "from sklearn.naive_bayes import MultinomialNB\n",
    "import pickle\n",
    "from sklearn.linear_model import LogisticRegression\n",
    "from sklearn.svm import SVC\n",
    "from sklearn.ensemble import VotingClassifier\n",
    "from sklearn.neural_network import MLPClassifier"
   ]
  },
  {
   "cell_type": "markdown",
   "id": "c61fd83b-ab0a-4c11-936f-b80eb2ba4ea3",
   "metadata": {},
   "source": [
    "# PROJECT SPECIFIC IMPORTS"
   ]
  },
  {
   "cell_type": "code",
   "execution_count": 2,
   "id": "89d6001d-80eb-449c-9845-7310b06a3949",
   "metadata": {},
   "outputs": [],
   "source": [
    "from modules.preprocess import *\n",
    "from modules.utils import *"
   ]
  },
  {
   "cell_type": "markdown",
   "id": "e94aadc4-160c-4bcd-8ad4-06fbb597d6de",
   "metadata": {},
   "source": [
    "# LOAD DATASET"
   ]
  },
  {
   "cell_type": "code",
   "execution_count": 3,
   "id": "77c5f7d9-a096-46ec-ad87-9a199398169e",
   "metadata": {},
   "outputs": [],
   "source": [
    "dataset = build_dataset(path=\"lapresse_crawler/output.json\", num_class_samples=500, rnd_state=10)"
   ]
  },
  {
   "cell_type": "markdown",
   "id": "7b0d0392-6bc2-479f-bbbf-32ca21a907a6",
   "metadata": {},
   "source": [
    "# PREPROCESS DATA"
   ]
  },
  {
   "cell_type": "code",
   "execution_count": 4,
   "id": "d6db7483-d587-41c0-8d76-1b007103318d",
   "metadata": {},
   "outputs": [
    {
     "name": "stderr",
     "output_type": "stream",
     "text": [
      "100%|█████████████████████████████████████████████████████████████████████████████████| 500/500 [01:02<00:00,  7.99it/s]\n"
     ]
    }
   ],
   "source": [
    "dataset = text_edit(dataset, grp_num=True, rm_newline=True, rm_punctuation=True,\n",
    "              rm_stop_words=True, lowercase=True, lemmatize=True, html_=True, convert_entities=True)"
   ]
  },
  {
   "cell_type": "code",
   "execution_count": 5,
   "id": "f1959bd9-1cbb-4117-8008-a4b210f252af",
   "metadata": {},
   "outputs": [],
   "source": [
    "X = [x['text'] for x in dataset.values()]\n",
    "Y = [x['section_label'] for x in dataset.values()]"
   ]
  },
  {
   "cell_type": "markdown",
   "id": "d7bee805-3401-4027-bb50-e3c65239eb70",
   "metadata": {},
   "source": [
    "# TRAIN/TEST SPLIT"
   ]
  },
  {
   "cell_type": "code",
   "execution_count": 6,
   "id": "3e9e256e-21f6-46c5-9b8a-2f74282fa4fd",
   "metadata": {},
   "outputs": [],
   "source": [
    "X_train, X_test, Y_train, Y_test = train_test_split(X, Y, test_size=0.3, random_state = 42)"
   ]
  },
  {
   "cell_type": "markdown",
   "id": "2f9d6ac6-1f4c-4d51-aa42-0f1b7ca02175",
   "metadata": {},
   "source": [
    "# VECTORIZE"
   ]
  },
  {
   "cell_type": "code",
   "execution_count": 7,
   "id": "ef8829ca-e0ba-408a-8768-9fc18a37f28c",
   "metadata": {},
   "outputs": [
    {
     "name": "stderr",
     "output_type": "stream",
     "text": [
      "/home/xavier/anaconda3/envs/ml_env/lib/python3.12/site-packages/sklearn/feature_extraction/text.py:525: UserWarning: The parameter 'token_pattern' will not be used since 'tokenizer' is not None'\n",
      "  warnings.warn(\n"
     ]
    }
   ],
   "source": [
    "vectorizer = TfidfVectorizer(tokenizer=spacy_tokenizer)\n",
    "tfidf_train = vectorizer.fit_transform(X_train)\n",
    "tfidf_test =  vectorizer.transform(X_test)"
   ]
  },
  {
   "cell_type": "markdown",
   "id": "2fcaa49b-0e45-4d77-97fc-f506538565a8",
   "metadata": {},
   "source": [
    "# HYPERPARAMETER TUNING"
   ]
  },
  {
   "cell_type": "code",
   "execution_count": 8,
   "id": "78099b8b-75ed-425c-a4f0-9d9d4bd078ca",
   "metadata": {},
   "outputs": [
    {
     "name": "stdout",
     "output_type": "stream",
     "text": [
      "Fitting 5 folds for each of 384 candidates, totalling 1920 fits\n"
     ]
    },
    {
     "name": "stderr",
     "output_type": "stream",
     "text": [
      "/home/xavier/anaconda3/envs/ml_env/lib/python3.12/site-packages/sklearn/model_selection/_split.py:725: UserWarning: The least populated class in y has only 1 members, which is less than n_splits=5.\n",
      "  warnings.warn(\n"
     ]
    },
    {
     "name": "stdout",
     "output_type": "stream",
     "text": [
      "Best Hyperparameters: {'C': 100, 'degree': 2, 'gamma': 'scale', 'kernel': 'sigmoid'}\n"
     ]
    }
   ],
   "source": [
    "svm_model = tune_svm(tfidf_train, Y_train)"
   ]
  },
  {
   "cell_type": "code",
   "execution_count": 9,
   "id": "53f03ce9-aa84-48a2-a077-609e84d3d2f0",
   "metadata": {},
   "outputs": [
    {
     "name": "stdout",
     "output_type": "stream",
     "text": [
      "Fitting 5 folds for each of 18 candidates, totalling 90 fits\n"
     ]
    },
    {
     "name": "stderr",
     "output_type": "stream",
     "text": [
      "/home/xavier/anaconda3/envs/ml_env/lib/python3.12/site-packages/sklearn/model_selection/_split.py:725: UserWarning: The least populated class in y has only 1 members, which is less than n_splits=5.\n",
      "  warnings.warn(\n"
     ]
    },
    {
     "name": "stdout",
     "output_type": "stream",
     "text": [
      "Best Hyperparameters: {'C': 100, 'penalty': 'l2', 'solver': 'newton-cg'}\n"
     ]
    }
   ],
   "source": [
    "lr_model = tune_logistic_regression(tfidf_train, Y_train)"
   ]
  },
  {
   "cell_type": "code",
   "execution_count": 10,
   "id": "ac176033-d5dc-486e-af02-6ec5cf745bb0",
   "metadata": {},
   "outputs": [],
   "source": [
    "mlp_model = MLPClassifier(hidden_layer_sizes=(25, 100, 100, 25), activation='relu', max_iter=5000, random_state=42)"
   ]
  },
  {
   "cell_type": "markdown",
   "id": "980f6151-1ad4-4dfa-9cbc-c182329fc5ec",
   "metadata": {},
   "source": [
    "# TRAIN AND EVAL"
   ]
  },
  {
   "cell_type": "code",
   "execution_count": 21,
   "id": "5183f727-fd54-49e2-a4c3-f0529726c2de",
   "metadata": {
    "scrolled": true
   },
   "outputs": [
    {
     "name": "stdout",
     "output_type": "stream",
     "text": [
      "Precision:  0.7596418300653596\n",
      "Recall:  0.78\n",
      "F1_score:  0.7484909423756491\n",
      "accuracy:  0.78\n"
     ]
    }
   ],
   "source": [
    "lr_model.fit(tfidf_train, Y_train)\n",
    "lr_y_pred = lr_model.predict(tfidf_test)\n",
    "evaluate(Y_test, lr_y_pred)"
   ]
  },
  {
   "cell_type": "code",
   "execution_count": 22,
   "id": "73381ce6-7043-4a7b-b487-b4a58b3f744e",
   "metadata": {},
   "outputs": [
    {
     "name": "stdout",
     "output_type": "stream",
     "text": [
      "Precision:  0.7742273442710417\n",
      "Recall:  0.7666666666666667\n",
      "F1_score:  0.7458551385721196\n",
      "accuracy:  0.7666666666666667\n"
     ]
    }
   ],
   "source": [
    "svm_model.fit(tfidf_train, Y_train)\n",
    "svm_y_pred = svm_model.predict(tfidf_test)\n",
    "evaluate(Y_test, svm_y_pred)"
   ]
  },
  {
   "cell_type": "code",
   "execution_count": 23,
   "id": "84eefe77-184b-49f5-b37f-e809a5e3ee1a",
   "metadata": {},
   "outputs": [
    {
     "name": "stdout",
     "output_type": "stream",
     "text": [
      "Precision:  0.8237411317803475\n",
      "Recall:  0.72\n",
      "F1_score:  0.7376868333535\n",
      "accuracy:  0.72\n"
     ]
    }
   ],
   "source": [
    "mlp_model.fit(tfidf_train, Y_train)\n",
    "mlp_y_pred = mlp_model.predict(tfidf_test)\n",
    "evaluate(Y_test, mlp_y_pred)"
   ]
  }
 ],
 "metadata": {
  "kernelspec": {
   "display_name": "Python 3 (ipykernel)",
   "language": "python",
   "name": "python3"
  },
  "language_info": {
   "codemirror_mode": {
    "name": "ipython",
    "version": 3
   },
   "file_extension": ".py",
   "mimetype": "text/x-python",
   "name": "python",
   "nbconvert_exporter": "python",
   "pygments_lexer": "ipython3",
   "version": "3.12.2"
  }
 },
 "nbformat": 4,
 "nbformat_minor": 5
}
