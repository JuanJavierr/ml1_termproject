{
 "cells": [
  {
   "cell_type": "code",
   "execution_count": 2,
   "metadata": {},
   "outputs": [],
   "source": [
    "import torch\n",
    "import pandas as pd\n",
    "import os\n",
    "import numpy as np\n",
    "\n",
    "def euclid_dis(vects: np.ndarray[int]) -> np.ndarray[float]:\n",
    "    pass\n",
    "\n",
    "def eucl_dist_output_shape(shapes) -> tuple[int, int]:\n",
    "    pass\n",
    "\n",
    "def contrastive_loss(y_true, y_pred) -> np.ndarray[float]:\n",
    "    pass\n",
    "\n",
    "def create_pairs(x, digit_indices) -> np.ndarray[float]:\n",
    "    pass\n",
    "\n",
    "def create_base_net(input_shape) -> torch.nn.Module:\n",
    "    pass\n",
    "\n",
    "def compute_accuracy(y_true, y_pred) -> np.ndarray[float]:\n",
    "    pass\n",
    "\n",
    "def accuracy(y_true, y_pred) -> np.ndarray[float]:\n",
    "    pass\n"
   ]
  },
  {
   "cell_type": "code",
   "execution_count": null,
   "metadata": {},
   "outputs": [],
   "source": [
    "from modules.utils import build_dataset, cleanup_dataset\n",
    "\n",
    "# Hyperparameters\n",
    "\n",
    "\n",
    "# Load data\n",
    "data = build_dataset()\n",
    "data = cleanup_dataset(data)\n",
    "\n",
    "# Create model\n",
    "model = create_base_net((28, 28))\n",
    "\n",
    "# Train model\n",
    "#model.train()\n",
    "\n",
    "# Evaluate model"
   ]
  }
 ],
 "metadata": {
  "kernelspec": {
   "display_name": "base",
   "language": "python",
   "name": "python3"
  },
  "language_info": {
   "codemirror_mode": {
    "name": "ipython",
    "version": 3
   },
   "file_extension": ".py",
   "mimetype": "text/x-python",
   "name": "python",
   "nbconvert_exporter": "python",
   "pygments_lexer": "ipython3",
   "version": "3.11.0"
  }
 },
 "nbformat": 4,
 "nbformat_minor": 2
}
