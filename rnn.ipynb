{
 "cells": [
  {
   "cell_type": "code",
   "execution_count": 1,
   "id": "5b5a0750-f2b9-4fa0-8a80-d9782bcb5082",
   "metadata": {},
   "outputs": [
    {
     "name": "stderr",
     "output_type": "stream",
     "text": [
      "[nltk_data] Downloading package stopwords to /home/xavier/nltk_data...\n",
      "[nltk_data]   Package stopwords is already up-to-date!\n"
     ]
    }
   ],
   "source": [
    "import torch\n",
    "import torch.nn as nn\n",
    "import torch.optim as optim\n",
    "import gensim\n",
    "import nltk\n",
    "from nltk.tokenize import word_tokenize\n",
    "from modules.preprocess import *\n",
    "from modules.utils import build_dataset, text_to_word2vec, evaluate\n",
    "from modules.rnn_model import TextRNN, TextLSTM\n",
    "import gensim.downloader as api\n",
    "from nltk.tokenize import word_tokenize\n",
    "import numpy as np\n",
    "from sklearn.model_selection import train_test_split\n",
    "from torch.utils.data import DataLoader, TensorDataset"
   ]
  },
  {
   "cell_type": "code",
   "execution_count": 2,
   "id": "3288cc5c-c2b0-47ad-b026-c8c865d0993a",
   "metadata": {},
   "outputs": [],
   "source": [
    "dataset = build_dataset(path=\"lapresse_crawler\", num_samples=100, rnd_state=10)"
   ]
  },
  {
   "cell_type": "code",
   "execution_count": 3,
   "id": "72b2002e-03bd-4576-9aba-456b44dc4bae",
   "metadata": {},
   "outputs": [
    {
     "name": "stderr",
     "output_type": "stream",
     "text": [
      "100%|███████████████████████████████████████████████████████████████████████████████| 100/100 [00:00<00:00, 3630.21it/s]\n"
     ]
    }
   ],
   "source": [
    "dataset = text_edit(dataset, grp_num=False, rm_newline=True, rm_punctuation=False,\n",
    "              rm_stop_words=True, lowercase=True, lemmatize=False, html_=True, convert_entities=False, expand=True)"
   ]
  },
  {
   "cell_type": "code",
   "execution_count": null,
   "id": "368771bb-c108-46a1-a67b-0e5170e76802",
   "metadata": {},
   "outputs": [],
   "source": []
  },
  {
   "cell_type": "code",
   "execution_count": 4,
   "id": "6a668781-b2e5-4a2f-941c-ea9171de7193",
   "metadata": {},
   "outputs": [],
   "source": [
    "X = [x['text'] for x in dataset.values() if x['section_1'] in ['actualites', 'sports', 'affaires', 'arts', 'international']]\n",
    "Y = [x['section_label'] for x in dataset.values() if x['section_1'] in ['actualites', 'sports', 'affaires', 'arts', 'international']]"
   ]
  },
  {
   "cell_type": "code",
   "execution_count": 5,
   "id": "7334047b-0c39-4e94-b048-19c2b275afe5",
   "metadata": {},
   "outputs": [],
   "source": [
    "X_train, X_test, Y_train, Y_test = train_test_split(X, Y, test_size=0.2, random_state = 42)"
   ]
  },
  {
   "cell_type": "code",
   "execution_count": 6,
   "id": "e8638765-1bf2-4a7a-9efa-241244a347b3",
   "metadata": {},
   "outputs": [],
   "source": [
    "#set([(x['section_1'], x['section_label']) for x in dataset.values()])"
   ]
  },
  {
   "cell_type": "code",
   "execution_count": 7,
   "id": "b37cdc4a-a1c4-4f8a-ab5b-91fe10d53e0f",
   "metadata": {},
   "outputs": [],
   "source": [
    "model_name = 'fasttext-wiki-news-subwords-300'  \n",
    "word2vec_model = api.load(model_name)"
   ]
  },
  {
   "cell_type": "code",
   "execution_count": 8,
   "id": "f567452e-88d9-47c1-80f7-b7de421a770c",
   "metadata": {},
   "outputs": [],
   "source": [
    "text = \"Ceci est un texte exemple\"\n",
    "vector = text_to_word2vec(text, word2vec_model)"
   ]
  },
  {
   "cell_type": "code",
   "execution_count": 9,
   "id": "f24c2cc5-9891-43cb-974c-a9ff0ec5d7a6",
   "metadata": {},
   "outputs": [],
   "source": [
    "input_size = vector.shape[0]  \n",
    "hidden_size = 64\n",
    "output_size = len(set(Y_train))  "
   ]
  },
  {
   "cell_type": "code",
   "execution_count": null,
   "id": "bf6499fd-b38f-4302-964c-a39c576cf6b3",
   "metadata": {},
   "outputs": [],
   "source": []
  },
  {
   "cell_type": "code",
   "execution_count": null,
   "id": "8fa0b2d4-c8a7-4fa8-bac6-e3e5a07cc271",
   "metadata": {},
   "outputs": [],
   "source": []
  },
  {
   "cell_type": "code",
   "execution_count": null,
   "id": "1ff489c0-c5e5-40b0-ad54-acd77dc7a283",
   "metadata": {},
   "outputs": [],
   "source": []
  },
  {
   "cell_type": "code",
   "execution_count": null,
   "id": "29e76ece-d3ab-4381-a352-24ae7d11fc5f",
   "metadata": {},
   "outputs": [],
   "source": []
  },
  {
   "cell_type": "code",
   "execution_count": null,
   "id": "887c529e-3d40-46e9-a166-a3a89f5f0de1",
   "metadata": {},
   "outputs": [],
   "source": [
    "#model = TextRNN(input_size, hidden_size, output_size, batch_first=True, dropout=0, nonlinearity='relu', bidirectional=True, num_layers=2)\n",
    "#criterion = nn.CrossEntropyLoss()\n",
    "#optimizer = optim.Adam(model.parameters(), lr=0.001)"
   ]
  },
  {
   "cell_type": "code",
   "execution_count": null,
   "id": "36fc4afb-30ab-4e74-91fe-2f2af9bc11f8",
   "metadata": {},
   "outputs": [],
   "source": [
    "model = TextLSTM(input_size, hidden_size, output_size, batch_first=True, dropout=0, bidirectional=False, num_layers=1)\n",
    "criterion = nn.CrossEntropyLoss()\n",
    "optimizer = optim.Adam(model.parameters(), lr=0.001)"
   ]
  },
  {
   "cell_type": "code",
   "execution_count": null,
   "id": "4db3f94d-d97b-429e-8464-dc8027dbeb6e",
   "metadata": {},
   "outputs": [],
   "source": [
    "X_train = torch.stack([torch.tensor(text_to_word2vec(x, word2vec_model), dtype=torch.float32).view(1,-1) for x in X_train], dim=0)\n",
    "X_test = torch.stack([torch.tensor(text_to_word2vec(x, word2vec_model), dtype=torch.float32).view(1,-1) for x in X_test], dim=0)"
   ]
  },
  {
   "cell_type": "code",
   "execution_count": null,
   "id": "f32d16af-cc74-442e-bc5a-987f5b08f1b0",
   "metadata": {},
   "outputs": [],
   "source": [
    "Y_train = torch.tensor(Y_train, dtype=torch.long)\n",
    "Y_test = torch.tensor(Y_test, dtype=torch.long)"
   ]
  },
  {
   "cell_type": "code",
   "execution_count": null,
   "id": "63fbc4a1-9ba3-462c-9390-a54afa8df54e",
   "metadata": {},
   "outputs": [],
   "source": []
  },
  {
   "cell_type": "code",
   "execution_count": null,
   "id": "747dc967-788f-41fe-9211-8e79bae7ffb9",
   "metadata": {},
   "outputs": [],
   "source": []
  },
  {
   "cell_type": "code",
   "execution_count": null,
   "id": "632e9e2f-801b-48b9-a4f9-9e2fecc3c2af",
   "metadata": {},
   "outputs": [],
   "source": [
    "batch_size = 32\n",
    "\n",
    "dataset = TensorDataset(X_train, Y_train)\n",
    "dataloader = DataLoader(dataset, batch_size=batch_size, shuffle=True)\n",
    "\n",
    "test_dataset = TensorDataset(X_test, Y_test)\n",
    "test_dataloader = DataLoader(test_dataset, batch_size=batch_size, shuffle=True)\n",
    "\n",
    "best_test_loss = float('inf')\n",
    "epochs = 50\n",
    "\n",
    "for epoch in range(epochs):\n",
    "    train_losses = []\n",
    "    test_losses = []\n",
    "    for X, Y in dataloader:  \n",
    "        model.train()\n",
    "        optimizer.zero_grad()\n",
    "        outputs = model(X)\n",
    "        loss = criterion(outputs, Y)\n",
    "        loss.backward() \n",
    "        optimizer.step()\n",
    "        train_losses.append(loss.detach())\n",
    "    for X, Y in test_dataloader:  \n",
    "        model.eval()\n",
    "        outputs = model(X)\n",
    "        loss = criterion(outputs, Y)\n",
    "        test_losses.append(loss.detach())\n",
    "\n",
    "    mean_test_loss = np.mean(test_losses)\n",
    "    print(f'Results for epoch {epoch}:')\n",
    "    print(f'Mean train loss for epoch: {np.mean(train_losses)}')\n",
    "    print(f'Mean test loss for epoch: {mean_test_loss}')\n",
    "\n",
    "    if mean_test_loss < best_test_loss:\n",
    "        best_test_loss = mean_test_loss\n",
    "        torch.save(model.state_dict(), 'rnn_best.pt') \n",
    "        print(f'Model saved at epoch {epoch} with test loss {mean_test_loss}')"
   ]
  },
  {
   "cell_type": "code",
   "execution_count": null,
   "id": "70ffe83e-23dd-42fc-9134-e1ad2af6002c",
   "metadata": {},
   "outputs": [],
   "source": []
  },
  {
   "cell_type": "code",
   "execution_count": null,
   "id": "eaf30533-35af-4a5b-adfa-039331fc822c",
   "metadata": {
    "scrolled": true
   },
   "outputs": [],
   "source": [
    "#device = torch.device(\"cuda\" if torch.cuda.is_available() else \"cpu\")\n",
    "#model = TextRNN(input_size, hidden_size, output_size, batch_first=True, dropout=0, nonlinearity='relu', bidirectional=True, num_layers=2).to(device)  \n",
    "#state_dict = torch.load('rnn_best.pt', map_location=device)  \n",
    "#model.load_state_dict(state_dict)"
   ]
  },
  {
   "cell_type": "code",
   "execution_count": null,
   "id": "69ad3c53-30c4-4c7e-9444-29b496af0a54",
   "metadata": {},
   "outputs": [],
   "source": [
    "device = torch.device(\"cuda\" if torch.cuda.is_available() else \"cpu\")\n",
    "model = TextLSTM(input_size, hidden_size, output_size, batch_first=True, dropout=0, bidirectional=False, num_layers=1)\n",
    "state_dict = torch.load('rnn_best.pt', map_location=device)  \n",
    "model.load_state_dict(state_dict)"
   ]
  },
  {
   "cell_type": "code",
   "execution_count": null,
   "id": "d01cefe8-d8a4-4e30-adfa-14471bd305a2",
   "metadata": {},
   "outputs": [],
   "source": []
  },
  {
   "cell_type": "code",
   "execution_count": null,
   "id": "098c85c9-899f-44a6-bbfd-e867319af700",
   "metadata": {},
   "outputs": [],
   "source": [
    "model.eval()\n",
    "pred_outputs = []\n",
    "for tensor_ in X_test:\n",
    "    output = model(tensor_.view(1,1,-1))\n",
    "    pred_class = np.argmax(output.detach())\n",
    "    pred_outputs.append(int(pred_class))"
   ]
  },
  {
   "cell_type": "code",
   "execution_count": null,
   "id": "b0e39947-d1ea-4490-8456-0077e3119dfa",
   "metadata": {},
   "outputs": [],
   "source": []
  },
  {
   "cell_type": "code",
   "execution_count": null,
   "id": "5b0f57a2-fc13-461c-9e55-a9aa249df501",
   "metadata": {},
   "outputs": [],
   "source": [
    "evaluate(Y_test.numpy(), np.array(pred_outputs))"
   ]
  },
  {
   "cell_type": "code",
   "execution_count": null,
   "id": "c27df10a-269e-4ab6-8dcb-fbf3050ba477",
   "metadata": {},
   "outputs": [],
   "source": []
  },
  {
   "cell_type": "code",
   "execution_count": null,
   "id": "bf33b36b-7f7f-4364-a0f4-23924c07cdf7",
   "metadata": {},
   "outputs": [],
   "source": []
  }
 ],
 "metadata": {
  "kernelspec": {
   "display_name": "Python 3 (ipykernel)",
   "language": "python",
   "name": "python3"
  },
  "language_info": {
   "codemirror_mode": {
    "name": "ipython",
    "version": 3
   },
   "file_extension": ".py",
   "mimetype": "text/x-python",
   "name": "python",
   "nbconvert_exporter": "python",
   "pygments_lexer": "ipython3",
   "version": "3.12.2"
  }
 },
 "nbformat": 4,
 "nbformat_minor": 5
}
